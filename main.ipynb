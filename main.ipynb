{
 "cells": [
  {
   "cell_type": "code",
   "execution_count": 41,
   "metadata": {},
   "outputs": [
    {
     "name": "stdout",
     "output_type": "stream",
     "text": [
      "Health = 48\n",
      "Disease = 147\n",
      "Total = 195\n",
      "\n",
      "Accuracy Score = %94.87179487179486\n"
     ]
    }
   ],
   "source": [
    "import numpy as np\n",
    "import pandas as pd\n",
    "import os, sys\n",
    "from sklearn.preprocessing import MinMaxScaler\n",
    "from xgboost import XGBClassifier\n",
    "from sklearn.model_selection import train_test_split\n",
    "from sklearn.metrics import accuracy_score\n",
    "\n",
    "# Find and load the dataset\n",
    "for dirname, _, filenames in os.walk('C:/Users/AVCI/Desktop/CODE/Github/Parkinsons-Disease-XGBoost'):\n",
    "    for filename in filenames:\n",
    "        if filename == \"parkinsons.data\":\n",
    "            data_path = os.path.join(dirname, filename)\n",
    "\n",
    "# Read the data\n",
    "df=pd.read_csv(data_path)\n",
    "df.head()\n",
    "\n",
    "# To select all columns (features and other columns) except the \"status\" column.\n",
    "# Converts the selected data to a numpy array and retrieves all columns starting from the second column.\n",
    "# This is skipped as the first column is \"status\" column.\n",
    "features=df.loc[:,df.columns!='status'].values[:,1:]\n",
    "labels=df.loc[:,'status'].values\n",
    "\n",
    "# Get the count of each label (0 and 1) in labels\n",
    "# shape[0] expression; returns the size of the first dimension (rows) of an array.\n",
    "print(\"Health = \"+ str(labels[labels==0].shape[0]))\n",
    "print(\"Disease = \"+ str(labels[labels==1].shape[0]))\n",
    "print(\"Total = \"+ str(labels.shape[0]))\n",
    "\n",
    "# Scale the features to between -1 and 1\n",
    "scaler=MinMaxScaler((-1,1))\n",
    "x=scaler.fit_transform(features)\n",
    "y=labels\n",
    "\n",
    "# Split the dataset - test = %20\n",
    "x_train,x_test,y_train,y_test=train_test_split(x, y, test_size=0.2, random_state=7)\n",
    "\n",
    "# Train the model\n",
    "model=XGBClassifier()\n",
    "model.fit(x_train,y_train)\n",
    "\n",
    "# Calculate the accuracy\n",
    "y_pred=model.predict(x_test)\n",
    "print(\"\\nAccuracy Score = %\"+str(accuracy_score(y_test, y_pred)*100))"
   ]
  },
  {
   "cell_type": "code",
   "execution_count": null,
   "metadata": {},
   "outputs": [],
   "source": []
  }
 ],
 "metadata": {
  "kernelspec": {
   "display_name": "Python 3",
   "language": "python",
   "name": "python3"
  },
  "language_info": {
   "codemirror_mode": {
    "name": "ipython",
    "version": 3
   },
   "file_extension": ".py",
   "mimetype": "text/x-python",
   "name": "python",
   "nbconvert_exporter": "python",
   "pygments_lexer": "ipython3",
   "version": "3.11.3"
  },
  "orig_nbformat": 4
 },
 "nbformat": 4,
 "nbformat_minor": 2
}
